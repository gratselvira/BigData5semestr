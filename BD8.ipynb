{
 "cells": [
  {
   "cell_type": "code",
   "execution_count": 2,
   "id": "a4341ae1-39bb-495c-8da2-ce29b282dca0",
   "metadata": {},
   "outputs": [
    {
     "name": "stdout",
     "output_type": "stream",
     "text": [
      "Максимальные зарплаты по возрастным категориям:\n",
      "\n",
      "Возрастная группа: <=20\n",
      "Мужчины:\n",
      "  1205\tКиран\t20\tмужчина\t40000\n",
      "Женщины:\n",
      "  1207\tБхавайя\t20\tженский\t15000\n",
      "\n",
      "Возрастная группа: 21-30\n",
      "Мужчины:\n",
      "  1204\tPrasanth\t30\tмужчина\t30000\n",
      "Женщины:\n",
      "  1206\tЛакшми\t25\tженский\t35000\n",
      "\n",
      "Возрастная группа: >30\n",
      "Мужчины:\n",
      "  1201\tГопал\t45\tмужчина\t50000\n",
      "Женщины:\n",
      "  1202\tМаниша\t40\tженский\t50000\n"
     ]
    }
   ],
   "source": [
    "import csv\n",
    "file_path = \"table8.txt\"\n",
    "with open(file_path, \"r\", encoding='utf-8') as file:\n",
    "            reader = csv.reader(file, delimiter=\"\\t\")\n",
    "            data = list(reader)\n",
    "\n",
    "def mapper(record):\n",
    "    gender = record[3]\n",
    "    return (gender, \"\\t\".join(record))\n",
    "\n",
    "\n",
    "\n",
    "def partitioner(key_value_pairs):\n",
    "    partitioned_data = {\n",
    "        \"<=20\": [],\n",
    "        \"21-30\": [],\n",
    "        \">30\": [],\n",
    "    }\n",
    "    for key, value in key_value_pairs:\n",
    "        record = value.split(\"\\t\")\n",
    "        age = int(record[2])\n",
    "        if age <= 20:\n",
    "            partitioned_data[\"<=20\"].append((key, value))\n",
    "        elif 21 <= age <= 30:\n",
    "            partitioned_data[\"21-30\"].append((key, value))\n",
    "        else:\n",
    "            partitioned_data[\">30\"].append((key, value))\n",
    "    return partitioned_data\n",
    "\n",
    "\n",
    "\n",
    "def reducer(data_partition):\n",
    "    max_salary_male = {\"<=20\": 0, \"21-30\": 0, \">30\": 0}\n",
    "    max_salary_female = {\"<=20\": 0, \"21-30\": 0, \">30\": 0}\n",
    "    max_salary_male_record = {\"<=20\": \"\", \"21-30\": \"\", \">30\": \"\"}\n",
    "    max_salary_female_record = {\"<=20\": \"\", \"21-30\": \"\", \">30\": \"\"}\n",
    "\n",
    "    for age_group, records in data_partition.items():\n",
    "        for gender, record in records:\n",
    "            salary = int(record.split(\"\\t\")[-1])\n",
    "            if gender == \"мужчина\" and salary > max_salary_male[age_group]:\n",
    "                max_salary_male[age_group] = salary\n",
    "                max_salary_male_record[age_group] = record\n",
    "            elif gender == \"женский\" and salary > max_salary_female[age_group]:\n",
    "                max_salary_female[age_group] = salary\n",
    "                max_salary_female_record[age_group] = record\n",
    "\n",
    "    return max_salary_male_record, max_salary_female_record\n",
    "\n",
    "\n",
    "# Main\n",
    "mapped_data = [mapper(record) for record in data]\n",
    "partitioned_data = partitioner(mapped_data)\n",
    "male_results, female_results = reducer(partitioned_data)\n",
    "\n",
    "\n",
    "# #Вывод результатов\n",
    "# print(\"Максимальные зарплаты мужчин:\")\n",
    "# for age_group, record in male_results.items():\n",
    "#     print(f\"Возрастная группа {age_group}: {record}\")\n",
    "\n",
    "# print(\"\\nМаксимальные зарплаты женщин:\")\n",
    "# for age_group, record in female_results.items():\n",
    "#     print(f\"Возрастная группа {age_group}: {record}\")\n",
    "\n",
    "\n",
    "    # Вывод результатов\n",
    "print(\"Максимальные зарплаты по возрастным категориям:\")\n",
    "for age_group in [\"<=20\", \"21-30\", \">30\"]:\n",
    "    print(f\"\\nВозрастная группа: {age_group}\")\n",
    "    print(\"Мужчины:\")\n",
    "    if male_results[age_group]:\n",
    "        print(f\"  {male_results[age_group]}\")\n",
    "    else:\n",
    "        print(\"  Нет данных\")\n",
    "    \n",
    "    print(\"Женщины:\")\n",
    "    if female_results[age_group]:\n",
    "        print(f\"  {female_results[age_group]}\")\n",
    "    else:\n",
    "        print(\"  Нет данных\")\n",
    "\n",
    "# первая категории М и Ж. 2 - вторая возр категория. третья возрастная категория. нужен другой вывод"
   ]
  },
  {
   "cell_type": "code",
   "execution_count": 4,
   "id": "6d21d7b2-cdff-4f9d-ae42-3d7bc640dcfc",
   "metadata": {},
   "outputs": [
    {
     "data": {
      "text/plain": [
       "[('мужчина', '1201\\tГопал\\t45\\tмужчина\\t50000'),\n",
       " ('женский', '1202\\tМаниша\\t40\\tженский\\t50000'),\n",
       " ('мужчина', '1203\\tХалил\\t34\\tмужчина\\t30000'),\n",
       " ('мужчина', '1204\\tPrasanth\\t30\\tмужчина\\t30000'),\n",
       " ('мужчина', '1205\\tКиран\\t20\\tмужчина\\t40000'),\n",
       " ('женский', '1206\\tЛакшми\\t25\\tженский\\t35000'),\n",
       " ('женский', '1207\\tБхавайя\\t20\\tженский\\t15000'),\n",
       " ('женский', '1208\\tReshma\\t19\\tженский\\t15000'),\n",
       " ('мужчина', '1209\\tkranthi\\t22\\tмужчина\\t22000'),\n",
       " ('мужчина', '1210\\tСатиш\\t24\\tмужчина\\t25000'),\n",
       " ('мужчина', '1211\\tКришна\\t25\\tмужчина\\t25000'),\n",
       " ('мужчина', '1212\\tАршад\\t28\\tмужчина\\t20000'),\n",
       " ('женский', '1213\\tЛаванья\\t18\\tженский\\t8000')]"
      ]
     },
     "execution_count": 4,
     "metadata": {},
     "output_type": "execute_result"
    }
   ],
   "source": [
    "mapped_data"
   ]
  },
  {
   "cell_type": "code",
   "execution_count": 6,
   "id": "9385f09a-b5a1-4ed2-aa3a-cc440d04edbe",
   "metadata": {},
   "outputs": [
    {
     "data": {
      "text/plain": [
       "{'<=20': [('мужчина', '1205\\tКиран\\t20\\tмужчина\\t40000'),\n",
       "  ('женский', '1207\\tБхавайя\\t20\\tженский\\t15000'),\n",
       "  ('женский', '1208\\tReshma\\t19\\tженский\\t15000'),\n",
       "  ('женский', '1213\\tЛаванья\\t18\\tженский\\t8000')],\n",
       " '21-30': [('мужчина', '1204\\tPrasanth\\t30\\tмужчина\\t30000'),\n",
       "  ('женский', '1206\\tЛакшми\\t25\\tженский\\t35000'),\n",
       "  ('мужчина', '1209\\tkranthi\\t22\\tмужчина\\t22000'),\n",
       "  ('мужчина', '1210\\tСатиш\\t24\\tмужчина\\t25000'),\n",
       "  ('мужчина', '1211\\tКришна\\t25\\tмужчина\\t25000'),\n",
       "  ('мужчина', '1212\\tАршад\\t28\\tмужчина\\t20000')],\n",
       " '>30': [('мужчина', '1201\\tГопал\\t45\\tмужчина\\t50000'),\n",
       "  ('женский', '1202\\tМаниша\\t40\\tженский\\t50000'),\n",
       "  ('мужчина', '1203\\tХалил\\t34\\tмужчина\\t30000')]}"
      ]
     },
     "execution_count": 6,
     "metadata": {},
     "output_type": "execute_result"
    }
   ],
   "source": [
    "partitioned_data"
   ]
  },
  {
   "cell_type": "code",
   "execution_count": 8,
   "id": "6d05ca80-a8b9-4bf2-9db3-7741dc9a2fb9",
   "metadata": {},
   "outputs": [
    {
     "data": {
      "text/plain": [
       "({'<=20': '1205\\tКиран\\t20\\tмужчина\\t40000',\n",
       "  '21-30': '1204\\tPrasanth\\t30\\tмужчина\\t30000',\n",
       "  '>30': '1201\\tГопал\\t45\\tмужчина\\t50000'},\n",
       " {'<=20': '1207\\tБхавайя\\t20\\tженский\\t15000',\n",
       "  '21-30': '1206\\tЛакшми\\t25\\tженский\\t35000',\n",
       "  '>30': '1202\\tМаниша\\t40\\tженский\\t50000'})"
      ]
     },
     "execution_count": 8,
     "metadata": {},
     "output_type": "execute_result"
    }
   ],
   "source": [
    "male_results, female_results"
   ]
  },
  {
   "cell_type": "code",
   "execution_count": null,
   "id": "9ce1f047-0512-4e35-a56f-00d7662caad6",
   "metadata": {},
   "outputs": [],
   "source": []
  }
 ],
 "metadata": {
  "kernelspec": {
   "display_name": "Python 3 (ipykernel)",
   "language": "python",
   "name": "python3"
  },
  "language_info": {
   "codemirror_mode": {
    "name": "ipython",
    "version": 3
   },
   "file_extension": ".py",
   "mimetype": "text/x-python",
   "name": "python",
   "nbconvert_exporter": "python",
   "pygments_lexer": "ipython3",
   "version": "3.12.4"
  }
 },
 "nbformat": 4,
 "nbformat_minor": 5
}
