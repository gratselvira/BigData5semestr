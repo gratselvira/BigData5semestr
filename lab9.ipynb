{
 "cells": [
  {
   "cell_type": "code",
   "execution_count": 3,
   "id": "f848f103-28c2-4668-9156-67516b01c16a",
   "metadata": {},
   "outputs": [
    {
     "name": "stdout",
     "output_type": "stream",
     "text": [
      "ADMIN HEARNG: 78912.95\n",
      "ANIMAL CONTRL: 66089.68\n",
      "AVIATION: 76140.02\n",
      "BOARD OF ELECTION: 56051.14\n",
      "BOARD OF ETHICS: 94552.50\n",
      "BUDGET & MGMT: 93925.40\n",
      "BUILDINGS: 98864.83\n",
      "BUSINESS AFFAIRS: 80446.43\n",
      "CITY CLERK: 69762.44\n",
      "CITY COUNCIL: 63577.17\n",
      "COMMUNITY DEVELOPMENT: 88363.26\n",
      "COPA: 98784.71\n",
      "CULTURAL AFFAIRS: 87048.91\n",
      "DISABILITIES: 82431.72\n",
      "DoIT: 99681.03\n",
      "FAMILY & SUPPORT: 79013.59\n",
      "FINANCE: 73276.36\n",
      "FIRE: 97760.26\n",
      "GENERAL SERVICES: 83095.53\n",
      "HEALTH: 85488.21\n",
      "HUMAN RELATIONS: 93778.59\n",
      "HUMAN RESOURCES: 79851.76\n",
      "INSPECTOR GEN: 84030.67\n",
      "IPRA: 94429.29\n",
      "LAW: 84582.81\n",
      "LICENSE APPL COMM: 80568.00\n",
      "MAYOR'S OFFICE: 96165.51\n",
      "OEMC: 73153.78\n",
      "POLICE: 87836.03\n",
      "POLICE BOARD: 86136.00\n",
      "PROCUREMENT: 83278.24\n",
      "PUBLIC LIBRARY: 71273.29\n",
      "STREETS & SAN: 84347.78\n",
      "TRANSPORTN: 89976.90\n",
      "TREASURER: 88062.65\n",
      "WATER MGMNT: 89894.11\n"
     ]
    }
   ],
   "source": [
    "import csv\n",
    "\n",
    "def mapper(row):\n",
    "    # Функция mapper получает строку из CSV-файла и возвращает пару \"отдел-зарплата\"\n",
    "    department = row[3]  \n",
    "    if row[7] == '':  # Пропускаем строки без зарплаты\n",
    "        return None\n",
    "    salary = float(row[7])\n",
    "    return (department, salary)\n",
    "    \n",
    "# Функция reducer получает список зарплат для одного отдела и вычисляет среднее значение\n",
    "def reducer(department_salaries):\n",
    "    total_salary = sum(department_salaries)\n",
    "    count = len(department_salaries)\n",
    "    return total_salary / count if count > 0 else 0\n",
    "\n",
    "# Чтение файла и применение map-reduce\n",
    "with open('employee_info.csv', mode='r', encoding='utf-8') as file:\n",
    "    reader = csv.reader(file)\n",
    "    next(reader)  # Пропустить заголовок\n",
    "    # Деление строк на пары \"отдел-зарплата\" через функцию mapper\n",
    "    mapped_data = filter(lambda x: x is not None, map(mapper, reader))\n",
    "    # Группировка данных по отделам\n",
    "    grouped_data = {}\n",
    "    for department, salary in mapped_data:\n",
    "        if department not in grouped_data:\n",
    "            grouped_data[department] = []\n",
    "        grouped_data[department].append(salary)\n",
    "        \n",
    "    # Вычисление среднего значения зарплаты для каждого отдела через функцию reducer\n",
    "    average_salaries = {\n",
    "        department: reducer(grouped_data[department])\n",
    "        for department in grouped_data.keys()\n",
    "    }\n",
    "\n",
    "# Вывод результатов, отсортированных по названиям отделов\n",
    "for department in sorted(average_salaries.keys()):\n",
    "    print(f\"{department}: {average_salaries[department]:.2f}\")"
   ]
  },
  {
   "cell_type": "code",
   "execution_count": null,
   "id": "85555cfb-732e-4b50-9dcc-ba68a61662cb",
   "metadata": {},
   "outputs": [],
   "source": []
  }
 ],
 "metadata": {
  "kernelspec": {
   "display_name": "Python 3 (ipykernel)",
   "language": "python",
   "name": "python3"
  },
  "language_info": {
   "codemirror_mode": {
    "name": "ipython",
    "version": 3
   },
   "file_extension": ".py",
   "mimetype": "text/x-python",
   "name": "python",
   "nbconvert_exporter": "python",
   "pygments_lexer": "ipython3",
   "version": "3.12.4"
  }
 },
 "nbformat": 4,
 "nbformat_minor": 5
}
