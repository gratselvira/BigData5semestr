{
 "cells": [
  {
   "cell_type": "code",
   "execution_count": 1,
   "id": "165ceb01-0fc5-4ff5-8591-a61702a005e8",
   "metadata": {},
   "outputs": [],
   "source": [
    "import pandas as pd\n",
    "\n",
    "df_cus = pd.read_csv('C:/Users/nikit/Study/БОЛЬШИЕГОРОДА/BD/Customers.csv', sep = ';')\n",
    "df_emp = pd.read_excel('C:/Users/nikit/Study/БОЛЬШИЕГОРОДА/BD/Employees.xlsx')\n",
    "df_ord = pd.read_csv('C:/Users/nikit/Study/БОЛЬШИЕГОРОДА/BD/Orders.csv', sep = ';')\n",
    "df_ord['OrderDate'] = pd.to_datetime(df_ord['OrderDate'])\n",
    "df_prod = pd.read_csv('C:/Users/nikit/Study/БОЛЬШИЕГОРОДА/BD/Products.csv', sep = ';')\n",
    "df_odet = pd.read_csv('C:/Users/nikit/Study/БОЛЬШИЕГОРОДА/BD/Order_details.csv', sep = ';')"
   ]
  },
  {
   "cell_type": "code",
   "execution_count": 2,
   "id": "de02e6d0-02d7-4b07-b256-f6bd20c5bdde",
   "metadata": {},
   "outputs": [
    {
     "data": {
      "text/plain": [
       "17"
      ]
     },
     "execution_count": 2,
     "metadata": {},
     "output_type": "execute_result"
    }
   ],
   "source": [
    "len(df_cus[df_cus['ContactTitle'] == 'Owner']) #1.1"
   ]
  },
  {
   "cell_type": "code",
   "execution_count": 3,
   "id": "22fae1f5-be8c-438d-a3b0-85e77b5cf67a",
   "metadata": {},
   "outputs": [
    {
     "data": {
      "text/plain": [
       "10"
      ]
     },
     "execution_count": 3,
     "metadata": {},
     "output_type": "execute_result"
    }
   ],
   "source": [
    "len(df_cus[df_cus['ContactName'].str[0] == 'A']) #1.2"
   ]
  },
  {
   "cell_type": "code",
   "execution_count": 4,
   "id": "c4d52b12-63f4-4e70-8d5a-0a7dfffb7833",
   "metadata": {},
   "outputs": [
    {
     "data": {
      "text/plain": [
       "2"
      ]
     },
     "execution_count": 4,
     "metadata": {},
     "output_type": "execute_result"
    }
   ],
   "source": [
    "len(df_cus[df_cus['Phone'].str.contains('5555')]) #1.3"
   ]
  },
  {
   "cell_type": "code",
   "execution_count": 5,
   "id": "c7ca03a1-c401-4de7-9707-6790285b446e",
   "metadata": {},
   "outputs": [
    {
     "data": {
      "text/plain": [
       "34"
      ]
     },
     "execution_count": 5,
     "metadata": {},
     "output_type": "execute_result"
    }
   ],
   "source": [
    "len(df_cus[df_cus['ContactTitle'].isin(['Owner','Sales Representative'])]) #1.4"
   ]
  },
  {
   "cell_type": "code",
   "execution_count": 6,
   "id": "8a80c29d-b0f0-4c6a-9792-7ef82ef701e9",
   "metadata": {},
   "outputs": [
    {
     "data": {
      "text/plain": [
       "ContactTitle\n",
       "Accounting Manager                10\n",
       "Assistant Sales Agent              2\n",
       "Assistant Sales Representative     1\n",
       "Marketing Assistant                6\n",
       "Marketing Manager                 12\n",
       "Order Administrator                2\n",
       "Owner                             17\n",
       "Owner/Marketing Assistant          1\n",
       "Sales Agent                        5\n",
       "Sales Associate                    7\n",
       "Sales Manager                     11\n",
       "Sales Representative              17\n",
       "Name: ContactTitle, dtype: int64"
      ]
     },
     "execution_count": 6,
     "metadata": {},
     "output_type": "execute_result"
    }
   ],
   "source": [
    "df_cus.groupby('ContactTitle').ContactTitle.count() #1.5"
   ]
  },
  {
   "cell_type": "code",
   "execution_count": 7,
   "id": "d0b8a013-bfc0-417f-ab1f-860b66ae13a3",
   "metadata": {},
   "outputs": [
    {
     "data": {
      "text/plain": [
       "488"
      ]
     },
     "execution_count": 7,
     "metadata": {},
     "output_type": "execute_result"
    }
   ],
   "source": [
    "len(df_ord[df_ord['OrderDate'] > '1997-07-05']) #2.1"
   ]
  },
  {
   "cell_type": "code",
   "execution_count": 8,
   "id": "76c9005f-e536-4cb1-8e74-43b39a2080eb",
   "metadata": {},
   "outputs": [
    {
     "data": {
      "text/plain": [
       "184"
      ]
     },
     "execution_count": 8,
     "metadata": {},
     "output_type": "execute_result"
    }
   ],
   "source": [
    "len(df_ord[df_ord['Freight'] <= 10.98])      #2.2"
   ]
  },
  {
   "cell_type": "code",
   "execution_count": 9,
   "id": "fac39997-d2cc-470f-bc22-e497921f0586",
   "metadata": {},
   "outputs": [
    {
     "data": {
      "text/html": [
       "<div>\n",
       "<style scoped>\n",
       "    .dataframe tbody tr th:only-of-type {\n",
       "        vertical-align: middle;\n",
       "    }\n",
       "\n",
       "    .dataframe tbody tr th {\n",
       "        vertical-align: top;\n",
       "    }\n",
       "\n",
       "    .dataframe thead th {\n",
       "        text-align: right;\n",
       "    }\n",
       "</style>\n",
       "<table border=\"1\" class=\"dataframe\">\n",
       "  <thead>\n",
       "    <tr style=\"text-align: right;\">\n",
       "      <th></th>\n",
       "      <th>OrderID</th>\n",
       "      <th>CustomerID</th>\n",
       "      <th>EmployeeID</th>\n",
       "      <th>OrderDate</th>\n",
       "      <th>RequiredDate</th>\n",
       "      <th>ShippedDate</th>\n",
       "      <th>Freight</th>\n",
       "    </tr>\n",
       "  </thead>\n",
       "  <tbody>\n",
       "    <tr>\n",
       "      <th>231</th>\n",
       "      <td>10479</td>\n",
       "      <td>RATTC</td>\n",
       "      <td>3</td>\n",
       "      <td>1997-03-19</td>\n",
       "      <td>1997-04-16 00:00:00.000</td>\n",
       "      <td>1997-03-21 00:00:00.000</td>\n",
       "      <td>708.95</td>\n",
       "    </tr>\n",
       "    <tr>\n",
       "      <th>266</th>\n",
       "      <td>10514</td>\n",
       "      <td>ERNSH</td>\n",
       "      <td>3</td>\n",
       "      <td>1997-04-22</td>\n",
       "      <td>1997-05-20 00:00:00.000</td>\n",
       "      <td>1997-05-16 00:00:00.000</td>\n",
       "      <td>789.95</td>\n",
       "    </tr>\n",
       "    <tr>\n",
       "      <th>292</th>\n",
       "      <td>10540</td>\n",
       "      <td>QUICK</td>\n",
       "      <td>3</td>\n",
       "      <td>1997-05-19</td>\n",
       "      <td>1997-06-16 00:00:00.000</td>\n",
       "      <td>1997-06-13 00:00:00.000</td>\n",
       "      <td>1007.64</td>\n",
       "    </tr>\n",
       "    <tr>\n",
       "      <th>364</th>\n",
       "      <td>10612</td>\n",
       "      <td>SAVEA</td>\n",
       "      <td>1</td>\n",
       "      <td>1997-07-28</td>\n",
       "      <td>1997-08-25 00:00:00.000</td>\n",
       "      <td>1997-08-01 00:00:00.000</td>\n",
       "      <td>544.08</td>\n",
       "    </tr>\n",
       "    <tr>\n",
       "      <th>443</th>\n",
       "      <td>10691</td>\n",
       "      <td>QUICK</td>\n",
       "      <td>2</td>\n",
       "      <td>1997-10-03</td>\n",
       "      <td>1997-11-14 00:00:00.000</td>\n",
       "      <td>1997-10-22 00:00:00.000</td>\n",
       "      <td>810.05</td>\n",
       "    </tr>\n",
       "  </tbody>\n",
       "</table>\n",
       "</div>"
      ],
      "text/plain": [
       "     OrderID CustomerID  EmployeeID  OrderDate             RequiredDate  \\\n",
       "231    10479      RATTC           3 1997-03-19  1997-04-16 00:00:00.000   \n",
       "266    10514      ERNSH           3 1997-04-22  1997-05-20 00:00:00.000   \n",
       "292    10540      QUICK           3 1997-05-19  1997-06-16 00:00:00.000   \n",
       "364    10612      SAVEA           1 1997-07-28  1997-08-25 00:00:00.000   \n",
       "443    10691      QUICK           2 1997-10-03  1997-11-14 00:00:00.000   \n",
       "\n",
       "                 ShippedDate  Freight  \n",
       "231  1997-03-21 00:00:00.000   708.95  \n",
       "266  1997-05-16 00:00:00.000   789.95  \n",
       "292  1997-06-13 00:00:00.000  1007.64  \n",
       "364  1997-08-01 00:00:00.000   544.08  \n",
       "443  1997-10-22 00:00:00.000   810.05  "
      ]
     },
     "execution_count": 9,
     "metadata": {},
     "output_type": "execute_result"
    }
   ],
   "source": [
    "_help = df_ord[(df_ord['Freight'] > 500) & (df_ord['OrderDate'].between('1997-01-01','1997-12-31'))] #2.3\n",
    "_help"
   ]
  },
  {
   "cell_type": "code",
   "execution_count": 10,
   "id": "0f65229f-5172-4fda-80e5-cffb8fc248ee",
   "metadata": {},
   "outputs": [
    {
     "data": {
      "text/plain": [
       "5"
      ]
     },
     "execution_count": 10,
     "metadata": {},
     "output_type": "execute_result"
    }
   ],
   "source": [
    "len(_help)"
   ]
  },
  {
   "cell_type": "code",
   "execution_count": 11,
   "id": "99ab7ace-14f8-4e3f-884c-37aa85922714",
   "metadata": {},
   "outputs": [
    {
     "data": {
      "text/html": [
       "<div>\n",
       "<style scoped>\n",
       "    .dataframe tbody tr th:only-of-type {\n",
       "        vertical-align: middle;\n",
       "    }\n",
       "\n",
       "    .dataframe tbody tr th {\n",
       "        vertical-align: top;\n",
       "    }\n",
       "\n",
       "    .dataframe thead th {\n",
       "        text-align: right;\n",
       "    }\n",
       "</style>\n",
       "<table border=\"1\" class=\"dataframe\">\n",
       "  <thead>\n",
       "    <tr style=\"text-align: right;\">\n",
       "      <th></th>\n",
       "      <th>OrderID</th>\n",
       "      <th>CustomerID</th>\n",
       "      <th>EmployeeID</th>\n",
       "      <th>OrderDate</th>\n",
       "      <th>RequiredDate</th>\n",
       "      <th>ShippedDate</th>\n",
       "      <th>Freight</th>\n",
       "    </tr>\n",
       "  </thead>\n",
       "  <tbody>\n",
       "    <tr>\n",
       "      <th>124</th>\n",
       "      <td>10372</td>\n",
       "      <td>QUEEN</td>\n",
       "      <td>5</td>\n",
       "      <td>1996-12-04</td>\n",
       "      <td>1997-01-01 00:00:00.000</td>\n",
       "      <td>1996-12-09 00:00:00.000</td>\n",
       "      <td>890.78</td>\n",
       "    </tr>\n",
       "    <tr>\n",
       "      <th>152</th>\n",
       "      <td>10400</td>\n",
       "      <td>EASTC</td>\n",
       "      <td>1</td>\n",
       "      <td>1997-01-01</td>\n",
       "      <td>1997-01-29 00:00:00.000</td>\n",
       "      <td>1997-01-16 00:00:00.000</td>\n",
       "      <td>83.93</td>\n",
       "    </tr>\n",
       "    <tr>\n",
       "      <th>153</th>\n",
       "      <td>10401</td>\n",
       "      <td>RATTC</td>\n",
       "      <td>1</td>\n",
       "      <td>1997-01-01</td>\n",
       "      <td>1997-01-29 00:00:00.000</td>\n",
       "      <td>1997-01-10 00:00:00.000</td>\n",
       "      <td>12.51</td>\n",
       "    </tr>\n",
       "    <tr>\n",
       "      <th>154</th>\n",
       "      <td>10402</td>\n",
       "      <td>ERNSH</td>\n",
       "      <td>8</td>\n",
       "      <td>1997-01-02</td>\n",
       "      <td>1997-02-13 00:00:00.000</td>\n",
       "      <td>1997-01-10 00:00:00.000</td>\n",
       "      <td>67.88</td>\n",
       "    </tr>\n",
       "    <tr>\n",
       "      <th>155</th>\n",
       "      <td>10403</td>\n",
       "      <td>ERNSH</td>\n",
       "      <td>4</td>\n",
       "      <td>1997-01-03</td>\n",
       "      <td>1997-01-31 00:00:00.000</td>\n",
       "      <td>1997-01-09 00:00:00.000</td>\n",
       "      <td>73.79</td>\n",
       "    </tr>\n",
       "    <tr>\n",
       "      <th>...</th>\n",
       "      <td>...</td>\n",
       "      <td>...</td>\n",
       "      <td>...</td>\n",
       "      <td>...</td>\n",
       "      <td>...</td>\n",
       "      <td>...</td>\n",
       "      <td>...</td>\n",
       "    </tr>\n",
       "    <tr>\n",
       "      <th>664</th>\n",
       "      <td>10912</td>\n",
       "      <td>HUNGO</td>\n",
       "      <td>2</td>\n",
       "      <td>1998-02-26</td>\n",
       "      <td>1998-03-26 00:00:00.000</td>\n",
       "      <td>1998-03-18 00:00:00.000</td>\n",
       "      <td>580.91</td>\n",
       "    </tr>\n",
       "    <tr>\n",
       "      <th>735</th>\n",
       "      <td>10983</td>\n",
       "      <td>SAVEA</td>\n",
       "      <td>2</td>\n",
       "      <td>1998-03-27</td>\n",
       "      <td>1998-04-24 00:00:00.000</td>\n",
       "      <td>1998-04-06 00:00:00.000</td>\n",
       "      <td>657.54</td>\n",
       "    </tr>\n",
       "    <tr>\n",
       "      <th>769</th>\n",
       "      <td>11017</td>\n",
       "      <td>ERNSH</td>\n",
       "      <td>9</td>\n",
       "      <td>1998-04-13</td>\n",
       "      <td>1998-05-11 00:00:00.000</td>\n",
       "      <td>1998-04-20 00:00:00.000</td>\n",
       "      <td>754.26</td>\n",
       "    </tr>\n",
       "    <tr>\n",
       "      <th>782</th>\n",
       "      <td>11030</td>\n",
       "      <td>SAVEA</td>\n",
       "      <td>7</td>\n",
       "      <td>1998-04-17</td>\n",
       "      <td>1998-05-15 00:00:00.000</td>\n",
       "      <td>1998-04-27 00:00:00.000</td>\n",
       "      <td>830.75</td>\n",
       "    </tr>\n",
       "    <tr>\n",
       "      <th>784</th>\n",
       "      <td>11032</td>\n",
       "      <td>WHITC</td>\n",
       "      <td>2</td>\n",
       "      <td>1998-04-17</td>\n",
       "      <td>1998-05-15 00:00:00.000</td>\n",
       "      <td>1998-04-23 00:00:00.000</td>\n",
       "      <td>606.19</td>\n",
       "    </tr>\n",
       "  </tbody>\n",
       "</table>\n",
       "<p>416 rows × 7 columns</p>\n",
       "</div>"
      ],
      "text/plain": [
       "     OrderID CustomerID  EmployeeID  OrderDate             RequiredDate  \\\n",
       "124    10372      QUEEN           5 1996-12-04  1997-01-01 00:00:00.000   \n",
       "152    10400      EASTC           1 1997-01-01  1997-01-29 00:00:00.000   \n",
       "153    10401      RATTC           1 1997-01-01  1997-01-29 00:00:00.000   \n",
       "154    10402      ERNSH           8 1997-01-02  1997-02-13 00:00:00.000   \n",
       "155    10403      ERNSH           4 1997-01-03  1997-01-31 00:00:00.000   \n",
       "..       ...        ...         ...        ...                      ...   \n",
       "664    10912      HUNGO           2 1998-02-26  1998-03-26 00:00:00.000   \n",
       "735    10983      SAVEA           2 1998-03-27  1998-04-24 00:00:00.000   \n",
       "769    11017      ERNSH           9 1998-04-13  1998-05-11 00:00:00.000   \n",
       "782    11030      SAVEA           7 1998-04-17  1998-05-15 00:00:00.000   \n",
       "784    11032      WHITC           2 1998-04-17  1998-05-15 00:00:00.000   \n",
       "\n",
       "                 ShippedDate  Freight  \n",
       "124  1996-12-09 00:00:00.000   890.78  \n",
       "152  1997-01-16 00:00:00.000    83.93  \n",
       "153  1997-01-10 00:00:00.000    12.51  \n",
       "154  1997-01-10 00:00:00.000    67.88  \n",
       "155  1997-01-09 00:00:00.000    73.79  \n",
       "..                       ...      ...  \n",
       "664  1998-03-18 00:00:00.000   580.91  \n",
       "735  1998-04-06 00:00:00.000   657.54  \n",
       "769  1998-04-20 00:00:00.000   754.26  \n",
       "782  1998-04-27 00:00:00.000   830.75  \n",
       "784  1998-04-23 00:00:00.000   606.19  \n",
       "\n",
       "[416 rows x 7 columns]"
      ]
     },
     "execution_count": 11,
     "metadata": {},
     "output_type": "execute_result"
    }
   ],
   "source": [
    "_help = df_ord[(df_ord['Freight'] > 500) | (df_ord['OrderDate'].between('1997-01-01','1997-12-31'))] #2.3\n",
    "_help "
   ]
  },
  {
   "cell_type": "code",
   "execution_count": 12,
   "id": "f7ecd6bc-e8ff-4a7c-945c-fea3d30206a2",
   "metadata": {},
   "outputs": [
    {
     "data": {
      "text/plain": [
       "416"
      ]
     },
     "execution_count": 12,
     "metadata": {},
     "output_type": "execute_result"
    }
   ],
   "source": [
    "len(_help)"
   ]
  },
  {
   "cell_type": "code",
   "execution_count": 13,
   "id": "4e454446-0b30-43a3-be96-0bbd299c5c5b",
   "metadata": {},
   "outputs": [
    {
     "data": {
      "text/plain": [
       "np.int64(10540)"
      ]
     },
     "execution_count": 13,
     "metadata": {},
     "output_type": "execute_result"
    }
   ],
   "source": [
    "df_ord[df_ord['OrderDate'].between('1997-01-01','1997-12-31')].sort_values('Freight', ascending= False)['OrderID'].values[0] # 2.4"
   ]
  },
  {
   "cell_type": "code",
   "execution_count": 14,
   "id": "7c2052d9-b007-43ec-8a32-68962f11e2e7",
   "metadata": {},
   "outputs": [
    {
     "data": {
      "text/plain": [
       "np.float64(4.03)"
      ]
     },
     "execution_count": 14,
     "metadata": {},
     "output_type": "execute_result"
    }
   ],
   "source": [
    "df_ord[df_ord['OrderDate'].between('1997-01-01','1997-12-31') & (df_ord['CustomerID'] == 'ANTON')].sort_values(['CustomerID','Freight'])['Freight'].values[0]\n",
    "#2.5"
   ]
  },
  {
   "cell_type": "code",
   "execution_count": 15,
   "id": "87034884-6edb-4edf-bc41-b6c27b1c55c8",
   "metadata": {},
   "outputs": [
    {
     "name": "stdout",
     "output_type": "stream",
     "text": [
      "min       0.02\n",
      "max    1007.64\n",
      "Name: Freight, dtype: float64\n",
      "Разница:  1007.62\n"
     ]
    }
   ],
   "source": [
    "print(df_ord['Freight'].agg(['min','max']))\n",
    "print('Разница: ', df_ord['Freight'].max() - df_ord['Freight'].min()) # 2.6"
   ]
  },
  {
   "cell_type": "code",
   "execution_count": 16,
   "id": "8e44784c-7f82-4478-a566-e53942ea425a",
   "metadata": {},
   "outputs": [
    {
     "data": {
      "text/plain": [
       "np.float64(776.27)"
      ]
     },
     "execution_count": 16,
     "metadata": {},
     "output_type": "execute_result"
    }
   ],
   "source": [
    "df_ord[df_ord['OrderDate'] == '1998-02-26'].Freight.sum() #2.7 ## "
   ]
  },
  {
   "cell_type": "code",
   "execution_count": 17,
   "id": "ab93b874-9017-486f-95c9-7cca7bdcff23",
   "metadata": {},
   "outputs": [
    {
     "data": {
      "text/plain": [
       "np.int64(5)"
      ]
     },
     "execution_count": 17,
     "metadata": {},
     "output_type": "execute_result"
    }
   ],
   "source": [
    "df_ord.groupby('EmployeeID').EmployeeID.count().idxmin() #2.8"
   ]
  },
  {
   "cell_type": "code",
   "execution_count": 18,
   "id": "f69e9a87-51bc-440f-9cf7-a68f5fc327e2",
   "metadata": {},
   "outputs": [
    {
     "data": {
      "text/plain": [
       "'19980226'"
      ]
     },
     "execution_count": 18,
     "metadata": {},
     "output_type": "execute_result"
    }
   ],
   "source": [
    "pd.to_datetime(df_ord.groupby('OrderDate').OrderDate.count().idxmax()).strftime('%Y%m%d') #2.9"
   ]
  },
  {
   "cell_type": "code",
   "execution_count": 19,
   "id": "cde47cd5-2a7c-45c5-8227-f53cf5db6faa",
   "metadata": {},
   "outputs": [
    {
     "data": {
      "text/plain": [
       "np.int64(6)"
      ]
     },
     "execution_count": 19,
     "metadata": {},
     "output_type": "execute_result"
    }
   ],
   "source": [
    "df_ord.groupby(['EmployeeID', 'CustomerID']).OrderID.count().max() #2.10"
   ]
  },
  {
   "cell_type": "code",
   "execution_count": 20,
   "id": "54da0ead-269a-459b-805b-cc92921e87d0",
   "metadata": {},
   "outputs": [
    {
     "data": {
      "text/plain": [
       "16"
      ]
     },
     "execution_count": 20,
     "metadata": {},
     "output_type": "execute_result"
    }
   ],
   "source": [
    "len(df_prod[df_prod['UnitPrice'].between(18,22)]) #3"
   ]
  },
  {
   "cell_type": "code",
   "execution_count": 21,
   "id": "8a87ec49-dc95-4016-b57a-2cf50db08ca2",
   "metadata": {},
   "outputs": [
    {
     "data": {
      "text/html": [
       "<div>\n",
       "<style scoped>\n",
       "    .dataframe tbody tr th:only-of-type {\n",
       "        vertical-align: middle;\n",
       "    }\n",
       "\n",
       "    .dataframe tbody tr th {\n",
       "        vertical-align: top;\n",
       "    }\n",
       "\n",
       "    .dataframe thead th {\n",
       "        text-align: right;\n",
       "    }\n",
       "</style>\n",
       "<table border=\"1\" class=\"dataframe\">\n",
       "  <thead>\n",
       "    <tr style=\"text-align: right;\">\n",
       "      <th></th>\n",
       "      <th>OrderID</th>\n",
       "      <th>ProductID</th>\n",
       "      <th>UnitPrice</th>\n",
       "      <th>Quantity</th>\n",
       "      <th>Discount</th>\n",
       "      <th>ActualDiscount</th>\n",
       "      <th>NetRevenue</th>\n",
       "    </tr>\n",
       "  </thead>\n",
       "  <tbody>\n",
       "    <tr>\n",
       "      <th>0</th>\n",
       "      <td>10248</td>\n",
       "      <td>11</td>\n",
       "      <td>14.00</td>\n",
       "      <td>12</td>\n",
       "      <td>0.00</td>\n",
       "      <td>0.000</td>\n",
       "      <td>168.000</td>\n",
       "    </tr>\n",
       "    <tr>\n",
       "      <th>1</th>\n",
       "      <td>10248</td>\n",
       "      <td>42</td>\n",
       "      <td>9.80</td>\n",
       "      <td>10</td>\n",
       "      <td>0.00</td>\n",
       "      <td>0.000</td>\n",
       "      <td>98.000</td>\n",
       "    </tr>\n",
       "    <tr>\n",
       "      <th>2</th>\n",
       "      <td>10248</td>\n",
       "      <td>72</td>\n",
       "      <td>34.80</td>\n",
       "      <td>5</td>\n",
       "      <td>0.00</td>\n",
       "      <td>0.000</td>\n",
       "      <td>174.000</td>\n",
       "    </tr>\n",
       "    <tr>\n",
       "      <th>3</th>\n",
       "      <td>10249</td>\n",
       "      <td>14</td>\n",
       "      <td>18.60</td>\n",
       "      <td>9</td>\n",
       "      <td>0.00</td>\n",
       "      <td>0.000</td>\n",
       "      <td>167.400</td>\n",
       "    </tr>\n",
       "    <tr>\n",
       "      <th>4</th>\n",
       "      <td>10249</td>\n",
       "      <td>51</td>\n",
       "      <td>42.40</td>\n",
       "      <td>40</td>\n",
       "      <td>0.00</td>\n",
       "      <td>0.000</td>\n",
       "      <td>1696.000</td>\n",
       "    </tr>\n",
       "    <tr>\n",
       "      <th>...</th>\n",
       "      <td>...</td>\n",
       "      <td>...</td>\n",
       "      <td>...</td>\n",
       "      <td>...</td>\n",
       "      <td>...</td>\n",
       "      <td>...</td>\n",
       "      <td>...</td>\n",
       "    </tr>\n",
       "    <tr>\n",
       "      <th>2150</th>\n",
       "      <td>11077</td>\n",
       "      <td>64</td>\n",
       "      <td>33.25</td>\n",
       "      <td>2</td>\n",
       "      <td>0.03</td>\n",
       "      <td>1.995</td>\n",
       "      <td>64.505</td>\n",
       "    </tr>\n",
       "    <tr>\n",
       "      <th>2151</th>\n",
       "      <td>11077</td>\n",
       "      <td>66</td>\n",
       "      <td>17.00</td>\n",
       "      <td>1</td>\n",
       "      <td>0.00</td>\n",
       "      <td>0.000</td>\n",
       "      <td>17.000</td>\n",
       "    </tr>\n",
       "    <tr>\n",
       "      <th>2152</th>\n",
       "      <td>11077</td>\n",
       "      <td>73</td>\n",
       "      <td>15.00</td>\n",
       "      <td>2</td>\n",
       "      <td>0.01</td>\n",
       "      <td>0.300</td>\n",
       "      <td>29.700</td>\n",
       "    </tr>\n",
       "    <tr>\n",
       "      <th>2153</th>\n",
       "      <td>11077</td>\n",
       "      <td>75</td>\n",
       "      <td>7.75</td>\n",
       "      <td>4</td>\n",
       "      <td>0.00</td>\n",
       "      <td>0.000</td>\n",
       "      <td>31.000</td>\n",
       "    </tr>\n",
       "    <tr>\n",
       "      <th>2154</th>\n",
       "      <td>11077</td>\n",
       "      <td>77</td>\n",
       "      <td>13.00</td>\n",
       "      <td>2</td>\n",
       "      <td>0.00</td>\n",
       "      <td>0.000</td>\n",
       "      <td>26.000</td>\n",
       "    </tr>\n",
       "  </tbody>\n",
       "</table>\n",
       "<p>2155 rows × 7 columns</p>\n",
       "</div>"
      ],
      "text/plain": [
       "      OrderID  ProductID  UnitPrice  Quantity  Discount  ActualDiscount  \\\n",
       "0       10248         11      14.00        12      0.00           0.000   \n",
       "1       10248         42       9.80        10      0.00           0.000   \n",
       "2       10248         72      34.80         5      0.00           0.000   \n",
       "3       10249         14      18.60         9      0.00           0.000   \n",
       "4       10249         51      42.40        40      0.00           0.000   \n",
       "...       ...        ...        ...       ...       ...             ...   \n",
       "2150    11077         64      33.25         2      0.03           1.995   \n",
       "2151    11077         66      17.00         1      0.00           0.000   \n",
       "2152    11077         73      15.00         2      0.01           0.300   \n",
       "2153    11077         75       7.75         4      0.00           0.000   \n",
       "2154    11077         77      13.00         2      0.00           0.000   \n",
       "\n",
       "      NetRevenue  \n",
       "0        168.000  \n",
       "1         98.000  \n",
       "2        174.000  \n",
       "3        167.400  \n",
       "4       1696.000  \n",
       "...          ...  \n",
       "2150      64.505  \n",
       "2151      17.000  \n",
       "2152      29.700  \n",
       "2153      31.000  \n",
       "2154      26.000  \n",
       "\n",
       "[2155 rows x 7 columns]"
      ]
     },
     "execution_count": 21,
     "metadata": {},
     "output_type": "execute_result"
    }
   ],
   "source": [
    "df_odet['ActualDiscount'] = df_odet['UnitPrice'] * df_odet['Quantity'] * df_odet['Discount']\n",
    "df_odet['NetRevenue'] = df_odet['UnitPrice'] * df_odet['Quantity'] - df_odet['ActualDiscount']  #4.1\n",
    "df_odet"
   ]
  },
  {
   "cell_type": "code",
   "execution_count": 22,
   "id": "769e152b-fce0-4641-958c-06ce545f0ff2",
   "metadata": {},
   "outputs": [
    {
     "data": {
      "text/html": [
       "<div>\n",
       "<style scoped>\n",
       "    .dataframe tbody tr th:only-of-type {\n",
       "        vertical-align: middle;\n",
       "    }\n",
       "\n",
       "    .dataframe tbody tr th {\n",
       "        vertical-align: top;\n",
       "    }\n",
       "\n",
       "    .dataframe thead th {\n",
       "        text-align: right;\n",
       "    }\n",
       "</style>\n",
       "<table border=\"1\" class=\"dataframe\">\n",
       "  <thead>\n",
       "    <tr style=\"text-align: right;\">\n",
       "      <th></th>\n",
       "      <th>OrderID</th>\n",
       "      <th>ActualDiscount</th>\n",
       "      <th>NetRevenue</th>\n",
       "    </tr>\n",
       "  </thead>\n",
       "  <tbody>\n",
       "    <tr>\n",
       "      <th>0</th>\n",
       "      <td>10248</td>\n",
       "      <td>0.0000</td>\n",
       "      <td>440.0000</td>\n",
       "    </tr>\n",
       "    <tr>\n",
       "      <th>1</th>\n",
       "      <td>10249</td>\n",
       "      <td>0.0000</td>\n",
       "      <td>1863.4000</td>\n",
       "    </tr>\n",
       "    <tr>\n",
       "      <th>2</th>\n",
       "      <td>10250</td>\n",
       "      <td>260.4000</td>\n",
       "      <td>1552.6000</td>\n",
       "    </tr>\n",
       "    <tr>\n",
       "      <th>3</th>\n",
       "      <td>10251</td>\n",
       "      <td>16.7400</td>\n",
       "      <td>654.0600</td>\n",
       "    </tr>\n",
       "    <tr>\n",
       "      <th>4</th>\n",
       "      <td>10252</td>\n",
       "      <td>132.1000</td>\n",
       "      <td>3597.9000</td>\n",
       "    </tr>\n",
       "    <tr>\n",
       "      <th>...</th>\n",
       "      <td>...</td>\n",
       "      <td>...</td>\n",
       "      <td>...</td>\n",
       "    </tr>\n",
       "    <tr>\n",
       "      <th>825</th>\n",
       "      <td>11073</td>\n",
       "      <td>0.0000</td>\n",
       "      <td>300.0000</td>\n",
       "    </tr>\n",
       "    <tr>\n",
       "      <th>826</th>\n",
       "      <td>11074</td>\n",
       "      <td>12.2150</td>\n",
       "      <td>232.0850</td>\n",
       "    </tr>\n",
       "    <tr>\n",
       "      <th>827</th>\n",
       "      <td>11075</td>\n",
       "      <td>87.9000</td>\n",
       "      <td>498.1000</td>\n",
       "    </tr>\n",
       "    <tr>\n",
       "      <th>828</th>\n",
       "      <td>11076</td>\n",
       "      <td>264.2500</td>\n",
       "      <td>792.7500</td>\n",
       "    </tr>\n",
       "    <tr>\n",
       "      <th>829</th>\n",
       "      <td>11077</td>\n",
       "      <td>118.8795</td>\n",
       "      <td>1255.7205</td>\n",
       "    </tr>\n",
       "  </tbody>\n",
       "</table>\n",
       "<p>830 rows × 3 columns</p>\n",
       "</div>"
      ],
      "text/plain": [
       "     OrderID  ActualDiscount  NetRevenue\n",
       "0      10248          0.0000    440.0000\n",
       "1      10249          0.0000   1863.4000\n",
       "2      10250        260.4000   1552.6000\n",
       "3      10251         16.7400    654.0600\n",
       "4      10252        132.1000   3597.9000\n",
       "..       ...             ...         ...\n",
       "825    11073          0.0000    300.0000\n",
       "826    11074         12.2150    232.0850\n",
       "827    11075         87.9000    498.1000\n",
       "828    11076        264.2500    792.7500\n",
       "829    11077        118.8795   1255.7205\n",
       "\n",
       "[830 rows x 3 columns]"
      ]
     },
     "execution_count": 22,
     "metadata": {},
     "output_type": "execute_result"
    }
   ],
   "source": [
    "_helpDf = df_odet.groupby('OrderID').agg({\n",
    "    'ActualDiscount': 'sum',\n",
    "    'NetRevenue': 'sum'\n",
    "}).reset_index()\n",
    "_helpDf"
   ]
  },
  {
   "cell_type": "code",
   "execution_count": 23,
   "id": "5bd58449-26bc-4869-9c01-e1aad486b284",
   "metadata": {},
   "outputs": [
    {
     "data": {
      "text/plain": [
       "5"
      ]
     },
     "execution_count": 23,
     "metadata": {},
     "output_type": "execute_result"
    }
   ],
   "source": [
    "len(_helpDf[_helpDf['ActualDiscount'] > 2000])"
   ]
  },
  {
   "cell_type": "code",
   "execution_count": 24,
   "id": "6447868d-b847-4608-9fde-4e4d4ad4386e",
   "metadata": {},
   "outputs": [
    {
     "name": "stdout",
     "output_type": "stream",
     "text": [
      "Заказ: 10865, чистая выручка: 16387.5\n"
     ]
    }
   ],
   "source": [
    "#4.2  #######################\n",
    "ord = df_odet.groupby('OrderID').NetRevenue.sum().idxmax()\n",
    "ordRev = df_odet.groupby('OrderID').NetRevenue.sum().max()\n",
    "print(f\"Заказ: {ord}, чистая выручка: {ordRev}\")"
   ]
  },
  {
   "cell_type": "code",
   "execution_count": 25,
   "id": "ba0fd8a7-7294-4650-951a-6da525b9a002",
   "metadata": {},
   "outputs": [
    {
     "data": {
      "text/html": [
       "<div>\n",
       "<style scoped>\n",
       "    .dataframe tbody tr th:only-of-type {\n",
       "        vertical-align: middle;\n",
       "    }\n",
       "\n",
       "    .dataframe tbody tr th {\n",
       "        vertical-align: top;\n",
       "    }\n",
       "\n",
       "    .dataframe thead th {\n",
       "        text-align: right;\n",
       "    }\n",
       "</style>\n",
       "<table border=\"1\" class=\"dataframe\">\n",
       "  <thead>\n",
       "    <tr style=\"text-align: right;\">\n",
       "      <th></th>\n",
       "      <th>FirstName</th>\n",
       "      <th>LastName</th>\n",
       "    </tr>\n",
       "  </thead>\n",
       "  <tbody>\n",
       "    <tr>\n",
       "      <th>3</th>\n",
       "      <td>Margaret</td>\n",
       "      <td>Peacock</td>\n",
       "    </tr>\n",
       "  </tbody>\n",
       "</table>\n",
       "</div>"
      ],
      "text/plain": [
       "  FirstName LastName\n",
       "3  Margaret  Peacock"
      ]
     },
     "execution_count": 25,
     "metadata": {},
     "output_type": "execute_result"
    }
   ],
   "source": [
    "df_emp[df_emp['EmployeeID'] == df_ord.groupby('EmployeeID').EmployeeID.count().idxmax()][['FirstName', 'LastName']] #5"
   ]
  },
  {
   "cell_type": "code",
   "execution_count": 26,
   "id": "94a25093-1c59-4e0d-93f3-015a7566b0e8",
   "metadata": {},
   "outputs": [
    {
     "data": {
      "text/plain": [
       "25    Horst Kloss\n",
       "Name: ContactName, dtype: object"
      ]
     },
     "execution_count": 26,
     "metadata": {},
     "output_type": "execute_result"
    }
   ],
   "source": [
    "_help = df_ord.merge(df_odet.groupby('OrderID').NetRevenue.sum().reset_index(), how = 'right').merge(df_cus)\n",
    "_help[_help['CustomerID'] == _help.groupby('CustomerID').NetRevenue.sum().idxmax()]['ContactName'].head(1)  #6"
   ]
  },
  {
   "cell_type": "code",
   "execution_count": 27,
   "id": "d8847c29-3b28-48db-a4da-37f1f4e74db1",
   "metadata": {},
   "outputs": [
    {
     "data": {
      "text/html": [
       "<div>\n",
       "<style scoped>\n",
       "    .dataframe tbody tr th:only-of-type {\n",
       "        vertical-align: middle;\n",
       "    }\n",
       "\n",
       "    .dataframe tbody tr th {\n",
       "        vertical-align: top;\n",
       "    }\n",
       "\n",
       "    .dataframe thead th {\n",
       "        text-align: right;\n",
       "    }\n",
       "</style>\n",
       "<table border=\"1\" class=\"dataframe\">\n",
       "  <thead>\n",
       "    <tr style=\"text-align: right;\">\n",
       "      <th></th>\n",
       "      <th>CategoryID</th>\n",
       "      <th>CategoryName</th>\n",
       "      <th>NetRevenue</th>\n",
       "    </tr>\n",
       "  </thead>\n",
       "  <tbody>\n",
       "    <tr>\n",
       "      <th>0</th>\n",
       "      <td>1</td>\n",
       "      <td>Beverages</td>\n",
       "      <td>184562.3</td>\n",
       "    </tr>\n",
       "  </tbody>\n",
       "</table>\n",
       "</div>"
      ],
      "text/plain": [
       "   CategoryID CategoryName  NetRevenue\n",
       "0           1    Beverages    184562.3"
      ]
     },
     "execution_count": 27,
     "metadata": {},
     "output_type": "execute_result"
    }
   ],
   "source": [
    "_help = df_odet.merge(df_prod).groupby(['CategoryID','CategoryName']).NetRevenue.sum().reset_index().sort_values('NetRevenue')\n",
    "_help.tail(1)#['CategoryName'] #7 ######################"
   ]
  },
  {
   "cell_type": "code",
   "execution_count": 28,
   "id": "c2cada5f-e3a3-4ae9-ad48-153f8507b53e",
   "metadata": {},
   "outputs": [
    {
     "data": {
      "text/html": [
       "<div>\n",
       "<style scoped>\n",
       "    .dataframe tbody tr th:only-of-type {\n",
       "        vertical-align: middle;\n",
       "    }\n",
       "\n",
       "    .dataframe tbody tr th {\n",
       "        vertical-align: top;\n",
       "    }\n",
       "\n",
       "    .dataframe thead th {\n",
       "        text-align: right;\n",
       "    }\n",
       "</style>\n",
       "<table border=\"1\" class=\"dataframe\">\n",
       "  <thead>\n",
       "    <tr style=\"text-align: right;\">\n",
       "      <th></th>\n",
       "      <th>CategoryID</th>\n",
       "      <th>CategoryName</th>\n",
       "      <th>NetRevenue</th>\n",
       "    </tr>\n",
       "  </thead>\n",
       "  <tbody>\n",
       "    <tr>\n",
       "      <th>2</th>\n",
       "      <td>3</td>\n",
       "      <td>Confections</td>\n",
       "      <td>117716.36</td>\n",
       "    </tr>\n",
       "  </tbody>\n",
       "</table>\n",
       "</div>"
      ],
      "text/plain": [
       "   CategoryID CategoryName  NetRevenue\n",
       "2           3  Confections   117716.36"
      ]
     },
     "execution_count": 28,
     "metadata": {},
     "output_type": "execute_result"
    }
   ],
   "source": [
    "_help[_help['CategoryName'] == 'Confections']#['NetRevenue'] #8 ###########"
   ]
  },
  {
   "cell_type": "code",
   "execution_count": null,
   "id": "700ac372-050e-4cfe-ad6b-6c7a3b4aeab3",
   "metadata": {},
   "outputs": [],
   "source": []
  }
 ],
 "metadata": {
  "kernelspec": {
   "display_name": "Python 3 (ipykernel)",
   "language": "python",
   "name": "python3"
  },
  "language_info": {
   "codemirror_mode": {
    "name": "ipython",
    "version": 3
   },
   "file_extension": ".py",
   "mimetype": "text/x-python",
   "name": "python",
   "nbconvert_exporter": "python",
   "pygments_lexer": "ipython3",
   "version": "3.12.2"
  }
 },
 "nbformat": 4,
 "nbformat_minor": 5
}
