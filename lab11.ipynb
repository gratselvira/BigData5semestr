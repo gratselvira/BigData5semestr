{
 "cells": [
  {
   "cell_type": "code",
   "execution_count": null,
   "id": "7f9873cf-0c33-4457-adbe-f68188096969",
   "metadata": {},
   "outputs": [],
   "source": []
  },
  {
   "cell_type": "code",
   "execution_count": 14,
   "id": "69664353-db6e-4ce6-a256-564a7e2843a7",
   "metadata": {},
   "outputs": [
    {
     "name": "stdout",
     "output_type": "stream",
     "text": [
      "Лизанька: Уникальных слов = 89, Реплик = 23\n",
      "София: Уникальных слов = 823, Реплик = 293\n",
      "=====: Уникальных слов = 1, Реплик = 60\n",
      "Лиза: Уникальных слов = 500, Реплик = 161\n",
      "Фамусов: Уникальных слов = 1332, Реплик = 476\n",
      "Голос Софии: Уникальных слов = 2, Реплик = 1\n",
      "Молчалин: Уникальных слов = 385, Реплик = 120\n",
      "Слуга: Уникальных слов = 9, Реплик = 3\n",
      "Чацкий: Уникальных слов = 1877, Реплик = 713\n",
      "Скалозуб: Уникальных слов = 301, Реплик = 78\n",
      "Наталья Дмитриевна: Уникальных слов = 168, Реплик = 52\n",
      "Платон Михайлович: Уникальных слов = 76, Реплик = 21\n",
      "Платон Михаилович: Уникальных слов = 80, Реплик = 21\n",
      "1-я княжна: Уникальных слов = 11, Реплик = 3\n",
      "2-я княжна: Уникальных слов = 7, Реплик = 2\n",
      "3-я княжна: Уникальных слов = 9, Реплик = 2\n",
      "4-я княжна: Уникальных слов = 8, Реплик = 2\n",
      "5-я княжна: Уникальных слов = 4, Реплик = 2\n",
      "6-я княжна: Уникальных слов = 4, Реплик = 2\n",
      "Княгиня: Уникальных слов = 135, Реплик = 32\n",
      "Князь: Уникальных слов = 5, Реплик = 6\n",
      "Графиня внучка: Уникальных слов = 114, Реплик = 29\n",
      "Загорецкий: Уникальных слов = 196, Реплик = 53\n",
      "Хлестова: Уникальных слов = 279, Реплик = 75\n",
      "Г.N.: Уникальных слов = 45, Реплик = 12\n",
      "Г.D.: Уникальных слов = 48, Реплик = 12\n",
      "Графиня бабушка: Уникальных слов = 33, Реплик = 8\n",
      "Все: Уникальных слов = 2, Реплик = 2\n",
      "Конец III действия: Уникальных слов = 44, Реплик = 5\n",
      "Лакей: Уникальных слов = 16, Реплик = 4\n",
      "Репетилов: Уникальных слов = 618, Реплик = 183\n",
      "Все вместе: Уникальных слов = 14, Реплик = 3\n",
      "Лакей его: Уникальных слов = 1, Реплик = 1\n",
      "Лиза и София: Уникальных слов = 1, Реплик = 1\n",
      "Конец: Уникальных слов = 3, Реплик = 1\n",
      "ПРИМЕЧАНИЯ: Уникальных слов = 1008, Реплик = 218\n"
     ]
    }
   ],
   "source": [
    "import re\n",
    "from collections import defaultdict\n",
    "\n",
    "file_path = \"gore_ot_uma.txt\"\n",
    "data = read_data_from_file(file_path)\n",
    "\n",
    "def read_data_from_file(file_path):\n",
    "    with open(file_path, 'r', encoding='utf-8') as file:\n",
    "        return file.readlines()\n",
    "\n",
    "def mapper(data):\n",
    "    for line in data:\n",
    "        parts = line.split(\"\\t\", 1)\n",
    "        if len(parts) < 2:\n",
    "            continue  # Пропускаем строки без реплик\n",
    "        character = parts[0].strip()\n",
    "        dialogue = parts[1].strip()\n",
    "        # удаление от пунктуации и разбиение на слова\n",
    "        words = re.findall(r'\\b[a-zA-Zа-яА-ЯёЁ]+\\b', dialogue.lower())\n",
    "        yield character, set(words)  # Используем set для уникальности слов\n",
    "\n",
    "def reducer(mapped_data):\n",
    "    character_info = defaultdict(lambda: {'unique_words': set(), 'replica_count': 0})\n",
    "\n",
    "    for character, words in mapped_data:\n",
    "        character_info[character]['unique_words'].update(words)  # Обновляем уникальные слова\n",
    "        character_info[character]['replica_count'] += 1  # Увеличиваем счетчик реплик\n",
    "\n",
    "    result = []\n",
    "    for character, info in character_info.items():\n",
    "        result.append((character, len(info['unique_words']), info['replica_count']))\n",
    "    return result\n",
    "\n",
    "\n",
    "mapped_data = list(map(mapper, [data]))  \n",
    "flattened_mapped_data = [item for sublist in mapped_data for item in sublist]  \n",
    "final_result = reducer(flattened_mapped_data) \n",
    "for character, unique_word_count, replica_count in final_result:\n",
    "    print(f\"{character}: Уникальных слов = {unique_word_count}, Реплик = {replica_count}\")\n"
   ]
  },
  {
   "cell_type": "code",
   "execution_count": null,
   "id": "597cc216-d413-4d06-a7f1-4f9aa5ae6445",
   "metadata": {},
   "outputs": [],
   "source": []
  }
 ],
 "metadata": {
  "kernelspec": {
   "display_name": "Python 3 (ipykernel)",
   "language": "python",
   "name": "python3"
  },
  "language_info": {
   "codemirror_mode": {
    "name": "ipython",
    "version": 3
   },
   "file_extension": ".py",
   "mimetype": "text/x-python",
   "name": "python",
   "nbconvert_exporter": "python",
   "pygments_lexer": "ipython3",
   "version": "3.12.4"
  }
 },
 "nbformat": 4,
 "nbformat_minor": 5
}
